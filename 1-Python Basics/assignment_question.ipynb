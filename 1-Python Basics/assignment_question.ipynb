{
 "cells": [
  {
   "cell_type": "markdown",
   "metadata": {},
   "source": [
    "# Lesson 1.2: Python Basics\n",
    "## Topics Covered:\n",
    "- Syntax and Semantics\n",
    "- Variables and Data Types\n",
    "- Basic Operators (Arithmetic, Comparison, Logical)\n"
   ]
  },
  {
   "cell_type": "markdown",
   "metadata": {},
   "source": [
    "## 1. Syntax and Semantics\n",
    "\n",
    "**Question 1:** Write a Python program to print \"Hello, World!\"."
   ]
  },
  {
   "cell_type": "code",
   "execution_count": 2,
   "metadata": {},
   "outputs": [
    {
     "name": "stdout",
     "output_type": "stream",
     "text": [
      "hello amulya!!\n",
      "Hello World!!\n"
     ]
    }
   ],
   "source": [
    "# Your code here\n",
    "print(\"hello amulya!!\")\n",
    "print(\"Hello World!!\")"
   ]
  },
  {
   "cell_type": "markdown",
   "metadata": {},
   "source": [
    "**Question 2:** Write a Python program that takes a user input and prints it."
   ]
  },
  {
   "cell_type": "code",
   "execution_count": 46,
   "metadata": {},
   "outputs": [
    {
     "name": "stdout",
     "output_type": "stream",
     "text": [
      "hi \n",
      "entered: manohar\n"
     ]
    }
   ],
   "source": [
    "# Your code here\n",
    "name=input(\"Enter your name:\")\n",
    "print(name)\n",
    "user_input = input(\"Enter something:\")\n",
    "print(\"entered:\",user_input)\n"
   ]
  },
  {
   "cell_type": "markdown",
   "metadata": {},
   "source": [
    "**Question 3:** Write a Python program to check if a number is positive, negative, or zero."
   ]
  },
  {
   "cell_type": "code",
   "execution_count": 35,
   "metadata": {},
   "outputs": [
    {
     "name": "stdout",
     "output_type": "stream",
     "text": [
      "The number is positive\n"
     ]
    }
   ],
   "source": [
    "# Your code here\n",
    "num=input(\"Enter the number:\")\n",
    "num=int(num)\n",
    "if num>0:\n",
    "    print(\"The number is positive\")\n",
    "elif num<0:\n",
    "    print(\"The number is negative\")\n",
    "else :\n",
    "    print(\"the number is zero\")        "
   ]
  },
  {
   "cell_type": "markdown",
   "metadata": {},
   "source": [
    "**Question 4:** Write a Python program to find the largest of three numbers."
   ]
  },
  {
   "cell_type": "code",
   "execution_count": 37,
   "metadata": {},
   "outputs": [
    {
     "name": "stdout",
     "output_type": "stream",
     "text": [
      "largest: 8\n"
     ]
    }
   ],
   "source": [
    "# Your code here\n",
    "a=input(\"a:\")\n",
    "b=input(\"b:\")\n",
    "c=input(\"c:\")\n",
    "if a>b and a>c :\n",
    "    print(\"largest:\",a)\n",
    "elif b>c and b>a :\n",
    "    print(\"largest:\",b)\n",
    "else:\n",
    "    print(\"largest:\",c)\n",
    "    "
   ]
  },
  {
   "cell_type": "markdown",
   "metadata": {},
   "source": [
    "**Question 5:** Write a Python program to calculate the factorial of a number."
   ]
  },
  {
   "cell_type": "code",
   "execution_count": 47,
   "metadata": {},
   "outputs": [
    {
     "name": "stdout",
     "output_type": "stream",
     "text": [
      "factorial of 3 is 6\n"
     ]
    }
   ],
   "source": [
    "# Your code here\n",
    "num=int(input(\"Enter the number\"))\n",
    "def factorial(n):\n",
    "    if n==0 or n==1:\n",
    "        return 1\n",
    "    else:\n",
    "        return n*factorial(n-1)\n",
    "\n",
    "print(f\"factorial of {num} is {factorial(num)}\")\n"
   ]
  },
  {
   "cell_type": "markdown",
   "metadata": {},
   "source": [
    "## 2. Variables and Data Types\n",
    "\n",
    "**Question 6:** Create variables of different data types: integer, float, string, and boolean. Print their values and types."
   ]
  },
  {
   "cell_type": "code",
   "execution_count": 50,
   "metadata": {},
   "outputs": [
    {
     "name": "stdout",
     "output_type": "stream",
     "text": [
      "num is :9,type:<class 'int'>\n",
      "num2 is :0.5,type:<class 'float'>\n",
      "name is:amul,type:<class 'str'>\n",
      "manu <class 'str'>\n",
      "False\n"
     ]
    }
   ],
   "source": [
    "# Your code here\n",
    "num=9\n",
    "num2=0.5\n",
    "name=\"amul\"\n",
    "Name=\"manu\"\n",
    "\n",
    "print(f\"num is :{num},type:{type(num)}\")\n",
    "print(f\"num2 is :{num2},type:{type(num2)}\")\n",
    "print(f\"name is:{name},type:{type(name)}\")\n",
    "print(Name,type(Name))\n",
    "print(name==Name)"
   ]
  },
  {
   "cell_type": "markdown",
   "metadata": {},
   "source": [
    "**Question 7:** Write a Python program to swap the values of two variables."
   ]
  },
  {
   "cell_type": "code",
   "execution_count": 42,
   "metadata": {},
   "outputs": [
    {
     "name": "stdout",
     "output_type": "stream",
     "text": [
      "20 10\n"
     ]
    }
   ],
   "source": [
    "# Your code here\n",
    "a=input(\"Enter first number:\")\n",
    "b=input(\"Enter second number:\")\n",
    "\n",
    "c=a;a=b;b=c\n",
    "print(a,b)"
   ]
  },
  {
   "cell_type": "markdown",
   "metadata": {},
   "source": [
    "**Question 8:** Write a Python program to convert Celsius to Fahrenheit."
   ]
  },
  {
   "cell_type": "code",
   "execution_count": 52,
   "metadata": {},
   "outputs": [
    {
     "name": "stdout",
     "output_type": "stream",
     "text": [
      "the temperature in fahrenheit is 96.8`F\n"
     ]
    }
   ],
   "source": [
    "# Your code here\n",
    "celsius=float(input(\"Enter temperature in celsius:\"))\n",
    "fahrenheit=(celsius*9/5)+32\n",
    "print(f\"the temperature in fahrenheit is {fahrenheit}`F\")"
   ]
  },
  {
   "cell_type": "markdown",
   "metadata": {},
   "source": [
    "**Question 9:** Write a Python program to concatenate two strings."
   ]
  },
  {
   "cell_type": "code",
   "execution_count": 53,
   "metadata": {},
   "outputs": [
    {
     "name": "stdout",
     "output_type": "stream",
     "text": [
      "manohar amulya\n"
     ]
    }
   ],
   "source": [
    "# Your code here\n",
    "a=input(\"frst Name:\")\n",
    "b=input(\"last Name:\")\n",
    "\n",
    "print(a+\" \"+b)"
   ]
  },
  {
   "cell_type": "markdown",
   "metadata": {},
   "source": [
    "**Question 10:** Write a Python program to check if a variable is of a specific data type."
   ]
  },
  {
   "cell_type": "code",
   "execution_count": 60,
   "metadata": {},
   "outputs": [
    {
     "name": "stdout",
     "output_type": "stream",
     "text": [
      "the number is not float\n"
     ]
    }
   ],
   "source": [
    "# Your code here\n",
    "##number=float(input(\"Enter the number:\"))\n",
    "number=11\n",
    "if isinstance(number,float):\n",
    "    print(\"the number is float\")\n",
    "else:\n",
    "    print(\"the number is not float\")\n"
   ]
  },
  {
   "cell_type": "markdown",
   "metadata": {},
   "source": [
    "## 3. Basic Operators (Arithmetic, Comparison, Logical)\n",
    "\n",
    "**Question 11:** Write a Python program to perform arithmetic operations: addition, subtraction, multiplication, and division."
   ]
  },
  {
   "cell_type": "code",
   "execution_count": 61,
   "metadata": {},
   "outputs": [
    {
     "name": "stdout",
     "output_type": "stream",
     "text": [
      "addition of 10 and 8:18\n",
      "subtraction of 10 and 8:2\n",
      "multiplication of 10 and 8:80\n",
      "division of 10 and 8:1.25\n"
     ]
    }
   ],
   "source": [
    "# Your code here\n",
    "a=10\n",
    "b=8\n",
    "print(f\"addition of {a} and {b}:{a+b}\")\n",
    "print(f\"subtraction of {a} and {b}:{a-b}\")\n",
    "print(f\"multiplication of {a} and {b}:{a*b}\")\n",
    "print(f\"division of {a} and {b}:{a/b}\")"
   ]
  },
  {
   "cell_type": "markdown",
   "metadata": {},
   "source": [
    "**Question 12:** Write a Python program to demonstrate comparison operators: equal to, not equal to, greater than, less than."
   ]
  },
  {
   "cell_type": "code",
   "execution_count": 62,
   "metadata": {},
   "outputs": [
    {
     "name": "stdout",
     "output_type": "stream",
     "text": [
      "10 equal to 8 : False\n",
      "10 not equal to 8 : True\n",
      "10 greater than 8:True\n",
      "10 less than 8 : False\n"
     ]
    }
   ],
   "source": [
    "# Your code here\n",
    "print(f\"{a} equal to {b} : {a==b}\")\n",
    "print(f\"{a} not equal to {b} : {a!=b}\")\n",
    "print(f\"{a} greater than {b}:{a>b}\")\n",
    "print(f\"{a} less than {b} : {a<b}\")"
   ]
  },
  {
   "cell_type": "markdown",
   "metadata": {},
   "source": [
    "**Question 13:** Write a Python program to demonstrate logical operators: and, or, not."
   ]
  },
  {
   "cell_type": "code",
   "execution_count": 64,
   "metadata": {},
   "outputs": [
    {
     "name": "stdout",
     "output_type": "stream",
     "text": [
      "true and false:False\n",
      "true or false:True\n",
      "not true  :False\n"
     ]
    }
   ],
   "source": [
    "# Your code here\n",
    "a=True\n",
    "b=False\n",
    "print(f\"true and false:{a and b}\")\n",
    "print(f\"true or false:{a or b}\")\n",
    "print(f\"not true  :{not a }\")"
   ]
  },
  {
   "cell_type": "markdown",
   "metadata": {},
   "source": [
    "**Question 14:** Write a Python program to calculate the square of a number."
   ]
  },
  {
   "cell_type": "code",
   "execution_count": 67,
   "metadata": {},
   "outputs": [
    {
     "name": "stdout",
     "output_type": "stream",
     "text": [
      "the square of 8 is: 64\n"
     ]
    }
   ],
   "source": [
    "# Your code here\n",
    "num=int(input(\"enter the number:\"))\n",
    "print(f\"the square of {num} is: {num*num}\")"
   ]
  },
  {
   "cell_type": "markdown",
   "metadata": {},
   "source": [
    "**Question 15:** Write a Python program to check if a number is even or odd."
   ]
  },
  {
   "cell_type": "code",
   "execution_count": 69,
   "metadata": {},
   "outputs": [
    {
     "name": "stdout",
     "output_type": "stream",
     "text": [
      "the 3 is odd\n"
     ]
    }
   ],
   "source": [
    "# Your code here\n",
    "num=int(input(\"enter a number:\"))\n",
    "if num%2==0:\n",
    "    print(f\"the {num} is even\")\n",
    "else :\n",
    "    print(f\"the {num} is odd\")\n",
    "\n"
   ]
  },
  {
   "cell_type": "markdown",
   "metadata": {},
   "source": [
    "**Question 16:** Write a Python program to find the sum of the first n natural numbers."
   ]
  },
  {
   "cell_type": "code",
   "execution_count": 72,
   "metadata": {},
   "outputs": [
    {
     "name": "stdout",
     "output_type": "stream",
     "text": [
      "the sum of 5 numbers:15\n"
     ]
    }
   ],
   "source": [
    "# Your code here\n",
    "num=int(input(\"Enter a number:\"))\n",
    "sum=0\n",
    "def sum(n):\n",
    "    if (n==0 or n==1):\n",
    "        return n\n",
    "    else:\n",
    "     return  n + sum(n-1)\n",
    "\n",
    "print(f\"the sum of {num} numbers:{sum(num)}\")"
   ]
  },
  {
   "cell_type": "markdown",
   "metadata": {},
   "source": [
    "**Question 17:** Write a Python program to check if a year is a leap year."
   ]
  },
  {
   "cell_type": "code",
   "execution_count": 77,
   "metadata": {},
   "outputs": [
    {
     "name": "stdout",
     "output_type": "stream",
     "text": [
      "the 2022 is not a leap year\n"
     ]
    }
   ],
   "source": [
    "# Your code here\n",
    "year=int(input(\"enter the year:\"))\n",
    "if (year%4==0 and year%100!=0) or (year%400==0):\n",
    "    print(f\"the {year} is a leap year\")\n",
    "else :\n",
    "    print(f\"the {year} is not a leap year\")    \n"
   ]
  },
  {
   "cell_type": "markdown",
   "metadata": {},
   "source": [
    "**Question 18:** Write a Python program to reverse a string."
   ]
  },
  {
   "cell_type": "code",
   "execution_count": null,
   "metadata": {},
   "outputs": [
    {
     "name": "stdout",
     "output_type": "stream",
     "text": [
      "mnhr\n"
     ]
    }
   ],
   "source": [
    "# Your code here\n",
    "str=\"manohar\"\n",
    "print(str[::-1])"
   ]
  },
  {
   "cell_type": "markdown",
   "metadata": {},
   "source": [
    "**Question 19:** Write a Python program to check if a string is a palindrome."
   ]
  },
  {
   "cell_type": "code",
   "execution_count": 92,
   "metadata": {},
   "outputs": [
    {
     "name": "stdout",
     "output_type": "stream",
     "text": [
      "madkam is not palindrome\n"
     ]
    }
   ],
   "source": [
    "# Your code here\n",
    "str=\"madkam\"\n",
    "if str == str[::-1]:\n",
    "    print(f\"{str} is a palindrome\")\n",
    "else:\n",
    "    print(f\"{str} is not palindrome\")    "
   ]
  },
  {
   "cell_type": "markdown",
   "metadata": {},
   "source": [
    "**Question 20:** Write a Python program to sort a list of numbers in ascending order."
   ]
  },
  {
   "cell_type": "code",
   "execution_count": 94,
   "metadata": {},
   "outputs": [
    {
     "name": "stdout",
     "output_type": "stream",
     "text": [
      "[0, 4, 5, 7, 8, 9]\n"
     ]
    }
   ],
   "source": [
    "# Your code here\n",
    "numbers = [int(x) for x in input(\"Enter the numbers: \").split()]\n",
    "numbers.sort()\n",
    "print(numbers)"
   ]
  },
  {
   "cell_type": "code",
   "execution_count": null,
   "metadata": {},
   "outputs": [],
   "source": []
  }
 ],
 "metadata": {
  "kernelspec": {
   "display_name": "base",
   "language": "python",
   "name": "python3"
  },
  "language_info": {
   "codemirror_mode": {
    "name": "ipython",
    "version": 3
   },
   "file_extension": ".py",
   "mimetype": "text/x-python",
   "name": "python",
   "nbconvert_exporter": "python",
   "pygments_lexer": "ipython3",
   "version": "3.13.5"
  }
 },
 "nbformat": 4,
 "nbformat_minor": 4
}
