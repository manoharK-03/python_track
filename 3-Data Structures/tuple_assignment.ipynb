{
 "cells": [
  {
   "cell_type": "markdown",
   "id": "6cade624",
   "metadata": {},
   "source": [
    "# Module 3: Data Structures Assignments\n",
    "## Lesson 3.2: Tuples\n",
    "### Assignment 1: Creating and Accessing Tuples\n",
    "\n",
    "Create a tuple with the first 10 positive integers. Print the tuple.\n",
    "\n",
    "### Assignment 2: Accessing Tuple Elements\n",
    "\n",
    "Print the first, middle, and last elements of the tuple created in Assignment 1.\n",
    "\n",
    "### Assignment 3: Tuple Slicing\n",
    "\n",
    "Print the first three elements, the last three elements, and the elements from index 2 to 5 of the tuple created in Assignment 1.\n",
    "\n",
    "### Assignment 4: Nested Tuples\n",
    "\n",
    "Create a nested tuple representing a 3x3 matrix and print the matrix. Access and print the element at the second row and third column.\n",
    "\n",
    "### Assignment 5: Tuple Concatenation\n",
    "\n",
    "Concatenate two tuples: (1, 2, 3) and (4, 5, 6). Print the resulting tuple.\n",
    "\n",
    "### Assignment 6: Tuple Methods\n",
    "\n",
    "Create a tuple with duplicate elements and count the occurrences of an element. Find the index of the first occurrence of an element in the tuple.\n",
    "\n",
    "### Assignment 7: Unpacking Tuples\n",
    "\n",
    "Create a tuple with 5 elements and unpack it into 5 variables. Print the variables.\n",
    "\n",
    "### Assignment 8: Tuple Conversion\n",
    "\n",
    "Convert a list of the first 5 positive integers to a tuple. Print the tuple.\n",
    "\n",
    "### Assignment 9: Tuple of Tuples\n",
    "\n",
    "Create a tuple containing 3 tuples, each with 3 elements. Print the tuple of tuples.\n",
    "\n",
    "### Assignment 10: Tuple and List\n",
    "\n",
    "Create a tuple with the first 5 positive integers. Convert it to a list, append the number 6, and convert it back to a tuple. Print the resulting tuple.\n",
    "\n",
    "### Assignment 11: Tuple and String\n",
    "\n",
    "Create a tuple with the characters of a string. Join the tuple elements into a single string. Print the string.\n",
    "\n",
    "### Assignment 12: Tuple and Dictionary\n",
    "\n",
    "Create a dictionary with tuple keys and integer values. Print the dictionary.\n",
    "\n",
    "### Assignment 13: Nested Tuple Iteration\n",
    "\n",
    "Create a nested tuple and iterate over the elements, printing each element.\n",
    "\n",
    "### Assignment 14: Tuple and Set\n",
    "\n",
    "Create a tuple with duplicate elements. Convert it to a set to remove duplicates and print the resulting set.\n",
    "\n",
    "### Assignment 15: Tuple Functions\n",
    "\n",
    "Write functions that take a tuple and return the minimum, maximum, and sum of the elements. Print the results for a sample tuple."
   ]
  },
  {
   "cell_type": "code",
   "execution_count": 1,
   "metadata": {},
   "outputs": [
    {
     "name": "stdout",
     "output_type": "stream",
     "text": [
      "(1, 2, 3, 4, 5, 6, 7, 8, 9, 10)\n",
      "(1, 2, 3, 4, 5, 6, 7, 8, 9, 10)\n"
     ]
    }
   ],
   "source": [
    "a=(1,2,3,4,5,6,7,8,9,10)\n",
    "print(a)\n",
    "type(a)\n",
    "b=tuple(x for x in range(1,11))\n",
    "print(b)"
   ]
  },
  {
   "cell_type": "code",
   "execution_count": 6,
   "id": "c0b223c5",
   "metadata": {},
   "outputs": [
    {
     "name": "stdout",
     "output_type": "stream",
     "text": [
      "first:1,middle:[2, 3, 4, 5, 6, 7, 8, 9],last:10\n",
      "6\n"
     ]
    }
   ],
   "source": [
    "first,*middle,last=a\n",
    "print(f\"first:{first},middle:{middle},last:{last}\")\n",
    "print(a[len(a)//2])"
   ]
  },
  {
   "cell_type": "code",
   "execution_count": 12,
   "id": "f82629d0",
   "metadata": {},
   "outputs": [
    {
     "name": "stdout",
     "output_type": "stream",
     "text": [
      "(1, 2, 3)\n",
      "(8, 9, 10)\n",
      "(3, 4, 5, 6)\n"
     ]
    }
   ],
   "source": [
    "print(a[:3])\n",
    "print(a[-3:])\n",
    "print(a[2:6])"
   ]
  },
  {
   "cell_type": "code",
   "execution_count": 18,
   "id": "5c67737f",
   "metadata": {},
   "outputs": [
    {
     "name": "stdout",
     "output_type": "stream",
     "text": [
      "((1, 2, 3), (4, 5, 6), (7, 8, 9))\n",
      "(1, 2, 3)\n",
      "(4, 5, 6)\n",
      "(7, 8, 9)\n",
      "the second row third column element: 6\n"
     ]
    }
   ],
   "source": [
    "mat=((1,2,3),(4,5,6),(7,8,9))\n",
    "print(mat)\n",
    "for row in mat:\n",
    "    print(row)\n",
    "\n",
    "print(\"the second row third column element:\",mat[1][2])"
   ]
  },
  {
   "cell_type": "code",
   "execution_count": 19,
   "id": "fabfca90",
   "metadata": {},
   "outputs": [
    {
     "name": "stdout",
     "output_type": "stream",
     "text": [
      "(1, 2, 3, 4, 5, 6)\n"
     ]
    }
   ],
   "source": [
    "tup1=(1,2,3)\n",
    "tup2=(4,5,6)\n",
    "tup=tup1+tup2\n",
    "print(tup)"
   ]
  },
  {
   "cell_type": "code",
   "execution_count": 21,
   "id": "7cb95c30",
   "metadata": {},
   "outputs": [
    {
     "name": "stdout",
     "output_type": "stream",
     "text": [
      "the count of 5 is : 3\n",
      "the first occurence of 3 is at index:4\n"
     ]
    }
   ],
   "source": [
    "tup=(1,1,1,2,3,3,4,4,5,5,5,6,6,6,7,7,8)\n",
    "print(f\"the count of 5 is : {tup.count(5)}\")\n",
    "print(f\"the first occurence of 3 is at index:{tup.index(3)}\")"
   ]
  },
  {
   "cell_type": "code",
   "execution_count": 26,
   "id": "9668acde",
   "metadata": {},
   "outputs": [
    {
     "name": "stdout",
     "output_type": "stream",
     "text": [
      "1 2 3 4 5\n"
     ]
    }
   ],
   "source": [
    "tup=(1,2,3,4,5)\n",
    "a,b,c,d,e=tup\n",
    "print(a,b,c,d,e)"
   ]
  },
  {
   "cell_type": "code",
   "execution_count": 2,
   "id": "a8adabed",
   "metadata": {},
   "outputs": [
    {
     "name": "stdout",
     "output_type": "stream",
     "text": [
      "[1, 2, 3, 4, 5]\n",
      "(1, 2, 3, 4, 5)\n"
     ]
    }
   ],
   "source": [
    "lst=[1,2,3,4,5]\n",
    "tup=tuple(lst)\n",
    "print(lst)\n",
    "print(tup)"
   ]
  },
  {
   "cell_type": "code",
   "execution_count": 47,
   "id": "ff8beda9",
   "metadata": {},
   "outputs": [
    {
     "name": "stdout",
     "output_type": "stream",
     "text": [
      "((1, 2, 3), (4, 5, 6), (7, 8, 9))\n"
     ]
    }
   ],
   "source": [
    "# tuple=()\n",
    "# len(tuple)=3\n",
    "# len(tuple[0])=3\n",
    "# for row in tuple:\n",
    "#     row()\n",
    "#     for col in row:\n",
    "#         val=int(input(\"enter the value:\"))\n",
    "#         col.append(val)\n",
    "#     row.append(tuple)\n",
    "# print(tuple)\n",
    "tup=(\n",
    "    (1,2,3),\n",
    "    (4,5,6),\n",
    "    (7,8,9)\n",
    ")\n",
    "print(tup)\n"
   ]
  },
  {
   "cell_type": "code",
   "execution_count": 3,
   "id": "c1ec9d29",
   "metadata": {},
   "outputs": [
    {
     "name": "stdout",
     "output_type": "stream",
     "text": [
      "(1, 2, 3, 4, 5, 6)\n"
     ]
    }
   ],
   "source": [
    "# tup10=(1,2,3,4,5)\n",
    "# lst=list(tup10)\n",
    "# lst.append(6)\n",
    "# print(lst)\n",
    "# tup10= tuple (lst)\n",
    "# tpl0 = tuple(lst)\n",
    "# print(tup10)\n",
    "\n",
    "\n",
    "\n",
    "\n",
    "tpl = (1, 2, 3, 4, 5)\n",
    "lst = list(tpl)\n",
    "lst.append(6)\n",
    "tpl = tuple(lst)\n",
    "print(tpl)"
   ]
  },
  {
   "cell_type": "code",
   "execution_count": 5,
   "id": "aca74646",
   "metadata": {},
   "outputs": [
    {
     "name": "stdout",
     "output_type": "stream",
     "text": [
      "manohar\n"
     ]
    }
   ],
   "source": [
    "str=\"manohar\"\n",
    "tpl=tuple(str)\n",
    "joined_str=''.join(tpl)\n",
    "print(joined_str)"
   ]
  },
  {
   "cell_type": "code",
   "execution_count": 12,
   "id": "f5faf3a6",
   "metadata": {},
   "outputs": [
    {
     "name": "stdout",
     "output_type": "stream",
     "text": [
      "{(1, 2): 10, (3, 4): 20, (5, 6): 30}\n"
     ]
    }
   ],
   "source": [
    "tpl_dict={\n",
    "    (1,2):10,\n",
    "    (3,4):20,\n",
    "    (5,6):30\n",
    "}\n",
    "print(tpl_dict)"
   ]
  },
  {
   "cell_type": "code",
   "execution_count": 13,
   "id": "8ce8bd46",
   "metadata": {},
   "outputs": [
    {
     "name": "stdout",
     "output_type": "stream",
     "text": [
      "1\n",
      "2\n",
      "3\n",
      "4\n",
      "5\n",
      "6\n",
      "7\n",
      "8\n",
      "9\n"
     ]
    }
   ],
   "source": [
    "nst=((1,2,3),(4,5,6),(7,8,9))\n",
    "for row in nst:\n",
    "    for col in row:\n",
    "        print(col)"
   ]
  },
  {
   "cell_type": "code",
   "execution_count": 14,
   "id": "1923d3e3",
   "metadata": {},
   "outputs": [
    {
     "name": "stdout",
     "output_type": "stream",
     "text": [
      "{1, 2, 3, 4, 5, 6, 7, 8}\n"
     ]
    }
   ],
   "source": [
    "tup=(1,1,1,2,3,3,4,4,5,5,5,6,6,6,7,7,8)\n",
    "set1=set(tup)\n",
    "print(set1)"
   ]
  },
  {
   "cell_type": "code",
   "execution_count": 15,
   "id": "ab0e2531",
   "metadata": {},
   "outputs": [
    {
     "name": "stdout",
     "output_type": "stream",
     "text": [
      "the min :1\n",
      "the max :7\n",
      "the sum :28\n"
     ]
    }
   ],
   "source": [
    "def min(tup):\n",
    "    min_val=tup[0]\n",
    "    for i in range(len(tup)):\n",
    "        if tup[i]<min_val:\n",
    "            min_val=tup[i]\n",
    "    return min_val\n",
    "\n",
    "def max(tup):\n",
    "    max_val=tup[0]\n",
    "    for i in range(len(tup)):\n",
    "        if tup[i]>max_val:\n",
    "            max_val=tup[i]\n",
    "    return max_val\n",
    "\n",
    "def sum(tup):\n",
    "    sum=0\n",
    "    for i in range(len(tup)):\n",
    "        sum=sum+tup[i]\n",
    "    return sum\n",
    "\n",
    "sample_tup=(1,2,3,4,5,6,7)\n",
    "print(f\"the min :{min(sample_tup)}\")\n",
    "print(f\"the max :{max(sample_tup)}\")\n",
    "print(f\"the sum :{sum(sample_tup)}\")"
   ]
  },
  {
   "cell_type": "code",
   "execution_count": null,
   "id": "093f540f",
   "metadata": {},
   "outputs": [],
   "source": []
  }
 ],
 "metadata": {
  "kernelspec": {
   "display_name": "base",
   "language": "python",
   "name": "python3"
  },
  "language_info": {
   "codemirror_mode": {
    "name": "ipython",
    "version": 3
   },
   "file_extension": ".py",
   "mimetype": "text/x-python",
   "name": "python",
   "nbconvert_exporter": "python",
   "pygments_lexer": "ipython3",
   "version": "3.13.5"
  }
 },
 "nbformat": 4,
 "nbformat_minor": 5
}
