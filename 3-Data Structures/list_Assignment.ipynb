{
 "cells": [
  {
   "cell_type": "markdown",
   "metadata": {},
   "source": [
    "# Module 3: Data Structures Assignments\n",
    "## Lesson 3.1: Lists\n",
    "### Assignment 1: Creating and Accessing Lists\n",
    "\n",
    "Create a list of the first 20 positive integers. Print the list.\n",
    "\n",
    "### Assignment 2: Accessing List Elements\n",
    "\n",
    "Print the first, middle, and last elements of the list created in Assignment 1.\n",
    "\n",
    "### Assignment 3: List Slicing\n",
    "\n",
    "Print the first five elements, the last five elements, and the elements from index 5 to 15 of the list created in Assignment 1.\n",
    "\n",
    "### Assignment 4: List Comprehensions\n",
    "\n",
    "Create a new list containing the squares of the first 10 positive integers using a list comprehension. Print the new list.\n",
    "\n",
    "### Assignment 5: Filtering Lists\n",
    "\n",
    "Create a new list containing only the even numbers from the list created in Assignment 1 using a list comprehension. Print the new list.\n",
    "\n",
    "### Assignment 6: List Methods\n",
    "\n",
    "Create a list of random numbers and sort it in ascending and descending order. Remove the duplicates from the list and print the modified list.\n",
    "\n",
    "### Assignment 7: Nested Lists\n",
    "\n",
    "Create a nested list representing a 3x3 matrix and print the matrix. Access and print the element at the second row and third column.\n",
    "\n",
    "### Assignment 8: List of Dictionaries\n",
    "\n",
    "Create a list of dictionaries where each dictionary represents a student with keys 'name' and 'score'. Sort the list of dictionaries by the 'score' in descending order and print the sorted list.\n",
    "\n",
    "### Assignment 9: Matrix Transposition\n",
    "\n",
    "Write a function that takes a 3x3 matrix (nested list) as input and returns its transpose. Print the original and transposed matrices.\n",
    "\n",
    "### Assignment 10: Flattening a Nested List\n",
    "\n",
    "Write a function that takes a nested list and flattens it into a single list. Print the original and flattened lists.\n",
    "\n",
    "### Assignment 11: List Manipulation\n",
    "\n",
    "Create a list of the first 10 positive integers. Remove the elements at indices 2, 4, and 6, and insert the element '99' at index 5. Print the modified list.\n",
    "\n",
    "### Assignment 12: List Zipping\n",
    "\n",
    "Create two lists of the same length. Use the `zip` function to combine these lists into a list of tuples and print the result.\n",
    "\n",
    "### Assignment 13: List Reversal\n",
    "\n",
    "Write a function that takes a list and returns a new list with the elements in reverse order. Print the original and reversed lists.\n",
    "\n",
    "### Assignment 14: List Rotation\n",
    "\n",
    "Write a function that rotates a list by n positions. Print the original and rotated lists.\n",
    "\n",
    "### Assignment 15: List Intersection\n",
    "\n",
    "Write a function that takes two lists and returns a new list containing only the elements that are present in both lists. Print the intersected list."
   ]
  },
  {
   "cell_type": "code",
   "execution_count": null,
   "metadata": {},
   "outputs": [
    {
     "name": "stdout",
     "output_type": "stream",
     "text": [
      "[1, 2, 3, 4, 5, 6, 7, 8, 9, 10, 11, 12, 13, 14, 15, 16, 17, 18, 19, 20]\n",
      "[1, 2, 3, 4, 5, 6, 7, 8, 9, 10, 11, 12, 13, 14, 15, 16, 17, 18, 19, 20]\n"
     ]
    }
   ],
   "source": [
    "lst=[i for i in range(1,21)]\n",
    "print(lst)\n",
    "ummu=[]\n",
    "for i in range(1,21):\n",
    "    ummu.append(i)\n",
    "print(ummu)"
   ]
  },
  {
   "cell_type": "code",
   "execution_count": 14,
   "id": "137cef73",
   "metadata": {},
   "outputs": [
    {
     "name": "stdout",
     "output_type": "stream",
     "text": [
      "1\n",
      "20\n",
      "11\n"
     ]
    }
   ],
   "source": [
    "print(lst[0])\n",
    "print(lst[-1])\n",
    "print(lst[len(lst)//2])"
   ]
  },
  {
   "cell_type": "code",
   "execution_count": null,
   "id": "67f34a5a",
   "metadata": {},
   "outputs": [
    {
     "name": "stdout",
     "output_type": "stream",
     "text": [
      "[1, 2, 3, 4, 5]\n",
      "[6, 7, 8, 9, 10, 11, 12, 13, 14, 15]\n",
      "[16, 17, 18, 19, 20]\n"
     ]
    }
   ],
   "source": [
    "print(lst[:5])\n",
    "print(lst[5:16])\n",
    "print(lst[-5:])"
   ]
  },
  {
   "cell_type": "code",
   "execution_count": 21,
   "id": "61a42ba1",
   "metadata": {},
   "outputs": [
    {
     "name": "stdout",
     "output_type": "stream",
     "text": [
      "[1, 4, 9, 16, 25, 36, 49, 64, 81, 100]\n"
     ]
    }
   ],
   "source": [
    "a=[x*x for x in range(1,11)]\n",
    "print(a)"
   ]
  },
  {
   "cell_type": "code",
   "execution_count": 23,
   "id": "e1ebb3e8",
   "metadata": {},
   "outputs": [
    {
     "name": "stdout",
     "output_type": "stream",
     "text": [
      "[2, 4, 6, 8, 10, 12, 14, 16, 18, 20]\n"
     ]
    }
   ],
   "source": [
    "b=[x for x in lst[0:] if x%2==0]\n",
    "print(b)"
   ]
  },
  {
   "cell_type": "code",
   "execution_count": 32,
   "id": "f9d22d1c",
   "metadata": {},
   "outputs": [
    {
     "name": "stdout",
     "output_type": "stream",
     "text": [
      "original list: [7, 11, 20, 4, 10, 8, 1, 11, 15, 10, 2, 1, 1, 9, 20]\n",
      "sorted list: [1, 1, 1, 2, 4, 7, 8, 9, 10, 10, 11, 11, 15, 20, 20]\n",
      "reversed list: [1, 1, 1, 2, 4, 7, 8, 9, 10, 10, 11, 11, 15, 20, 20]\n"
     ]
    }
   ],
   "source": [
    "import random\n",
    "random_numbers=[random.randint(1,20) for x in range(15)]\n",
    "print(f\"original list: {random_numbers}\")\n",
    "asc_numbers=random_numbers.sort()\n",
    "print(f\"sorted list: {random_numbers}\")\n",
    "des_numbers=sorted(random_numbers,reverse=True)\n",
    "print(f\"reversed list: {random_numbers}\")\n"
   ]
  },
  {
   "cell_type": "code",
   "execution_count": 35,
   "id": "9e0e848f",
   "metadata": {},
   "outputs": [
    {
     "name": "stdout",
     "output_type": "stream",
     "text": [
      "[[1, 2, 3], [4, 5, 6], [7, 8, 9]]\n",
      "[1, 2, 3]\n",
      "[4, 5, 6]\n",
      "[7, 8, 9]\n",
      "6\n"
     ]
    }
   ],
   "source": [
    "b=[[1,2,3],[4,5,6],[7,8,9]]\n",
    "print(b)\n",
    "for x in b:\n",
    "    print(x)\n",
    "print(b[1][2])"
   ]
  },
  {
   "cell_type": "code",
   "execution_count": 55,
   "id": "2441e527",
   "metadata": {},
   "outputs": [
    {
     "name": "stdout",
     "output_type": "stream",
     "text": [
      "{'rahul': 23, 'sunil': 35, 'manohar': 45, 'vishnu': 48, 'somu': 37}\n",
      "[48, 45, 37, 35, 23]\n",
      "{'vishnu': 48, 'manohar': 45, 'somu': 37, 'sunil': 35, 'rahul': 23}\n"
     ]
    }
   ],
   "source": [
    "student={\"rahul\":23,\"sunil\":35,\"manohar\":45,\"vishnu\":48,\"somu\":37}\n",
    "print(student)\n",
    "sort=sorted(student.values(),reverse=True)\n",
    "print(sort)\n",
    "\n",
    "sorted_dict=dict(sorted(student.items(),key=lambda x:x[1],reverse=True))\n",
    "print(sorted_dict)"
   ]
  },
  {
   "cell_type": "code",
   "execution_count": 52,
   "id": "871ca0c7",
   "metadata": {},
   "outputs": [
    {
     "name": "stdout",
     "output_type": "stream",
     "text": [
      "[[1, 2], [3, 4], [5, 6]]\n",
      "3\n",
      "2\n",
      "[[1, 3, 5], [2, 4, 6]]\n"
     ]
    }
   ],
   "source": [
    "def transpose(matrix):\n",
    "    transposed=[]\n",
    "    for i in range(len(matrix[0])):\n",
    "        row=[]\n",
    "        for j in range(len(matrix)):\n",
    "            row.append(matrix[j][i])\n",
    "        transposed.append(row)\n",
    "    return transposed\n",
    "\n",
    "matrix=[]\n",
    "for i in range(3):\n",
    "    row=[]\n",
    "    for j in range(2):\n",
    "        val=int(input(\"enter the value:\"))\n",
    "        row.append(val)\n",
    "    matrix.append(row)\n",
    "\n",
    "print(matrix)\n",
    "print(len(matrix))\n",
    "print(len(matrix[0]))\n",
    "transposed_matrix=transpose(matrix)\n",
    "print(transposed_matrix)\n",
    "\n"
   ]
  },
  {
   "cell_type": "code",
   "execution_count": 56,
   "id": "2486cab6",
   "metadata": {},
   "outputs": [
    {
     "name": "stdout",
     "output_type": "stream",
     "text": [
      "[[1, 2, 3], [4, 5], [6, 7, 8, 9]]\n",
      "[1, 2, 3, 4, 5, 6, 7, 8, 9]\n"
     ]
    }
   ],
   "source": [
    "def flatten_list(nested_list):\n",
    "    flat_list=[item for sublist in nested_list for item in sublist]\n",
    "    return flat_list\n",
    "\n",
    "nested_list=[\n",
    "    [1,2,3],\n",
    "    [4,5],\n",
    "    [6,7,8,9]\n",
    "]\n",
    "print(nested_list)\n",
    "flat=flatten_list(nested_list)\n",
    "print(flat)\n"
   ]
  },
  {
   "cell_type": "code",
   "execution_count": 69,
   "id": "2a18fe3e",
   "metadata": {},
   "outputs": [
    {
     "name": "stdout",
     "output_type": "stream",
     "text": [
      "[1, 2, 3, 4, 5, 6, 7, 8, 9, 10]\n",
      "[1, 2, 4, 5, 6, 7, 8, 9, 10]\n",
      "[1, 2, 4, 5, 7, 8, 9, 10]\n",
      "[1, 2, 4, 5, 7, 8, 10]\n",
      "[1, 2, 4, 5, 7, 99, 8, 10]\n"
     ]
    }
   ],
   "source": [
    "a=[x for x in range(1,11)]\n",
    "print(a)\n",
    "a.remove(a[2])\n",
    "print(a)\n",
    "a.remove(a[4])\n",
    "print(a)\n",
    "a.remove(a[6])\n",
    "print(a)\n",
    "a.insert(5,99)\n",
    "print(a)"
   ]
  },
  {
   "cell_type": "code",
   "execution_count": 72,
   "id": "ddc0e67a",
   "metadata": {},
   "outputs": [
    {
     "name": "stdout",
     "output_type": "stream",
     "text": [
      "[(1, 'a'), (2, 'b'), (3, 'c'), (4, 'd')]\n",
      "((1, 'a'), (2, 'b'), (3, 'c'), (4, 'd'))\n"
     ]
    }
   ],
   "source": [
    "lst1=[1,2,3,4]\n",
    "lst2=['a','b','c','d']\n",
    "zipped=list(zip(lst1,lst2))\n",
    "print(zipped)\n",
    "zipp2=tuple(zipped)\n",
    "print(zipp2)\n"
   ]
  },
  {
   "cell_type": "code",
   "execution_count": 85,
   "id": "63eb33f0",
   "metadata": {},
   "outputs": [
    {
     "name": "stdout",
     "output_type": "stream",
     "text": [
      "[1, 2, 3, 4, 5]\n",
      "[5, 4, 3, 2, 1]\n"
     ]
    }
   ],
   "source": [
    "def reverse(lst):\n",
    "    return lst[::-1]\n",
    "lst=[1,2,3,4,5]\n",
    "print(lst)\n",
    "\n",
    "newlst=reverse(lst)\n",
    "print(newlst)"
   ]
  },
  {
   "cell_type": "code",
   "execution_count": 87,
   "id": "75c48b25",
   "metadata": {},
   "outputs": [
    {
     "name": "stdout",
     "output_type": "stream",
     "text": [
      "[1, 2, 3, 4, 5, 6, 7, 8, 9]\n",
      "[5, 6, 7, 8, 9, 1, 2, 3, 4]\n"
     ]
    }
   ],
   "source": [
    "def rotate_list(lst,k):\n",
    "    return lst[k:]+lst[:k]\n",
    "original_lst=[1,2,3,4,5,6,7,8,9]\n",
    "print(original_lst)\n",
    "rotated_lst=rotate_list(original_lst,4)\n",
    "print(rotated_lst)\n"
   ]
  },
  {
   "cell_type": "code",
   "execution_count": 90,
   "id": "d1283342",
   "metadata": {},
   "outputs": [
    {
     "name": "stdout",
     "output_type": "stream",
     "text": [
      "[3, 4, 5]\n"
     ]
    }
   ],
   "source": [
    "lst1=[1,2,3,4,5]\n",
    "lst2=[3,4,5,6,7,8]\n",
    "common=list(set(lst1).intersection(set(lst2)))\n",
    "print(common)"
   ]
  },
  {
   "cell_type": "code",
   "execution_count": null,
   "id": "8b0cac18",
   "metadata": {},
   "outputs": [],
   "source": []
  }
 ],
 "metadata": {
  "kernelspec": {
   "display_name": "base",
   "language": "python",
   "name": "python3"
  },
  "language_info": {
   "codemirror_mode": {
    "name": "ipython",
    "version": 3
   },
   "file_extension": ".py",
   "mimetype": "text/x-python",
   "name": "python",
   "nbconvert_exporter": "python",
   "pygments_lexer": "ipython3",
   "version": "3.13.5"
  }
 },
 "nbformat": 4,
 "nbformat_minor": 5
}
